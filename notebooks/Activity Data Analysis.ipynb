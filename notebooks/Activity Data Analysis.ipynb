{
 "cells": [
  {
   "cell_type": "markdown",
   "id": "comparable-favor",
   "metadata": {},
   "source": [
    "# Load Activity Data"
   ]
  },
  {
   "cell_type": "markdown",
   "id": "complicated-waterproof",
   "metadata": {},
   "source": [
    "First we load the activity data of Bob, to do some exploratory analysis "
   ]
  },
  {
   "cell_type": "code",
   "execution_count": 1,
   "id": "facial-planet",
   "metadata": {},
   "outputs": [],
   "source": [
    "import os\n",
    "import pandas as pd\n",
    "\n",
    "pd.options.mode.chained_assignment = None \n",
    "pd.set_option('display.max_rows', 100)"
   ]
  },
  {
   "cell_type": "code",
   "execution_count": 2,
   "id": "domestic-florida",
   "metadata": {},
   "outputs": [
    {
     "data": {
      "text/html": [
       "<div>\n",
       "<style scoped>\n",
       "    .dataframe tbody tr th:only-of-type {\n",
       "        vertical-align: middle;\n",
       "    }\n",
       "\n",
       "    .dataframe tbody tr th {\n",
       "        vertical-align: top;\n",
       "    }\n",
       "\n",
       "    .dataframe thead th {\n",
       "        text-align: right;\n",
       "    }\n",
       "</style>\n",
       "<table border=\"1\" class=\"dataframe\">\n",
       "  <thead>\n",
       "    <tr style=\"text-align: right;\">\n",
       "      <th></th>\n",
       "      <th>Aktivitätstyp</th>\n",
       "      <th>Datum</th>\n",
       "      <th>Distanz</th>\n",
       "      <th>Kalorien</th>\n",
       "      <th>Zeit</th>\n",
       "      <th>Ø Herzfrequenz</th>\n",
       "      <th>Maximale Herzfrequenz</th>\n",
       "      <th>Aerober TE</th>\n",
       "      <th>Ø Schrittfrequenz (Laufen)</th>\n",
       "      <th>Max. Schrittfrequenz (Laufen)</th>\n",
       "      <th>Ø Geschwindigkeit</th>\n",
       "      <th>Maximale Geschwindigkeit</th>\n",
       "      <th>Positiver Höhenunterschied</th>\n",
       "      <th>Negativer Höhenunterschied</th>\n",
       "      <th>Ø Schrittlänge</th>\n",
       "    </tr>\n",
       "  </thead>\n",
       "  <tbody>\n",
       "    <tr>\n",
       "      <th>0</th>\n",
       "      <td>Laufen</td>\n",
       "      <td>2020-08-22 11:13:16</td>\n",
       "      <td>3.82</td>\n",
       "      <td>269</td>\n",
       "      <td>0:20:47</td>\n",
       "      <td>138</td>\n",
       "      <td>150</td>\n",
       "      <td>2.4</td>\n",
       "      <td>160</td>\n",
       "      <td>174</td>\n",
       "      <td>5:26</td>\n",
       "      <td>4:05</td>\n",
       "      <td>55</td>\n",
       "      <td>67</td>\n",
       "      <td>1.15</td>\n",
       "    </tr>\n",
       "    <tr>\n",
       "      <th>1</th>\n",
       "      <td>Radfahren</td>\n",
       "      <td>2020-08-22 8:37:31</td>\n",
       "      <td>56.06</td>\n",
       "      <td>1,178</td>\n",
       "      <td>2:30:09</td>\n",
       "      <td>119</td>\n",
       "      <td>143</td>\n",
       "      <td>2.6</td>\n",
       "      <td>--</td>\n",
       "      <td>--</td>\n",
       "      <td>22.4</td>\n",
       "      <td>47.9</td>\n",
       "      <td>448</td>\n",
       "      <td>461</td>\n",
       "      <td>0.00</td>\n",
       "    </tr>\n",
       "    <tr>\n",
       "      <th>2</th>\n",
       "      <td>Laufen</td>\n",
       "      <td>2020-08-20 7:40:48</td>\n",
       "      <td>11.36</td>\n",
       "      <td>678</td>\n",
       "      <td>1:02:41</td>\n",
       "      <td>135</td>\n",
       "      <td>155</td>\n",
       "      <td>2.8</td>\n",
       "      <td>160</td>\n",
       "      <td>192</td>\n",
       "      <td>5:31</td>\n",
       "      <td>3:32</td>\n",
       "      <td>124</td>\n",
       "      <td>116</td>\n",
       "      <td>1.13</td>\n",
       "    </tr>\n",
       "    <tr>\n",
       "      <th>3</th>\n",
       "      <td>Schwimmbadschwimmen</td>\n",
       "      <td>2020-08-19 8:17:18</td>\n",
       "      <td>1,400</td>\n",
       "      <td>311</td>\n",
       "      <td>0:49:09</td>\n",
       "      <td>144</td>\n",
       "      <td>181</td>\n",
       "      <td>3.7</td>\n",
       "      <td>--</td>\n",
       "      <td>--</td>\n",
       "      <td>2:48</td>\n",
       "      <td>0:49</td>\n",
       "      <td>--</td>\n",
       "      <td>--</td>\n",
       "      <td>0.00</td>\n",
       "    </tr>\n",
       "    <tr>\n",
       "      <th>4</th>\n",
       "      <td>Laufen</td>\n",
       "      <td>2020-08-18 7:49:42</td>\n",
       "      <td>7.97</td>\n",
       "      <td>592</td>\n",
       "      <td>0:43:31</td>\n",
       "      <td>146</td>\n",
       "      <td>162</td>\n",
       "      <td>3.6</td>\n",
       "      <td>162</td>\n",
       "      <td>190</td>\n",
       "      <td>5:28</td>\n",
       "      <td>3:48</td>\n",
       "      <td>119</td>\n",
       "      <td>122</td>\n",
       "      <td>1.13</td>\n",
       "    </tr>\n",
       "  </tbody>\n",
       "</table>\n",
       "</div>"
      ],
      "text/plain": [
       "         Aktivitätstyp                Datum Distanz Kalorien     Zeit  \\\n",
       "0               Laufen  2020-08-22 11:13:16    3.82      269  0:20:47   \n",
       "1            Radfahren   2020-08-22 8:37:31   56.06    1,178  2:30:09   \n",
       "2               Laufen   2020-08-20 7:40:48   11.36      678  1:02:41   \n",
       "3  Schwimmbadschwimmen   2020-08-19 8:17:18   1,400      311  0:49:09   \n",
       "4               Laufen   2020-08-18 7:49:42    7.97      592  0:43:31   \n",
       "\n",
       "   Ø Herzfrequenz  Maximale Herzfrequenz  Aerober TE  \\\n",
       "0             138                    150         2.4   \n",
       "1             119                    143         2.6   \n",
       "2             135                    155         2.8   \n",
       "3             144                    181         3.7   \n",
       "4             146                    162         3.6   \n",
       "\n",
       "  Ø Schrittfrequenz (Laufen) Max. Schrittfrequenz (Laufen) Ø Geschwindigkeit  \\\n",
       "0                        160                           174              5:26   \n",
       "1                         --                            --              22.4   \n",
       "2                        160                           192              5:31   \n",
       "3                         --                            --              2:48   \n",
       "4                        162                           190              5:28   \n",
       "\n",
       "  Maximale Geschwindigkeit Positiver Höhenunterschied  \\\n",
       "0                     4:05                         55   \n",
       "1                     47.9                        448   \n",
       "2                     3:32                        124   \n",
       "3                     0:49                         --   \n",
       "4                     3:48                        119   \n",
       "\n",
       "  Negativer Höhenunterschied  Ø Schrittlänge  \n",
       "0                         67            1.15  \n",
       "1                        461            0.00  \n",
       "2                        116            1.13  \n",
       "3                         --            0.00  \n",
       "4                        122            1.13  "
      ]
     },
     "execution_count": 2,
     "metadata": {},
     "output_type": "execute_result"
    }
   ],
   "source": [
    "CSV_PATH = os.path.join(\"..\", \"data\", \"activity_data.csv\")\n",
    "\n",
    "df_activity = pd.read_csv(CSV_PATH)\n",
    "\n",
    "df_activity.head()"
   ]
  },
  {
   "cell_type": "markdown",
   "id": "protective-judge",
   "metadata": {},
   "source": [
    "# Process Activity Data"
   ]
  },
  {
   "cell_type": "code",
   "execution_count": 3,
   "id": "international-shift",
   "metadata": {},
   "outputs": [],
   "source": [
    "import seaborn as sns\n",
    "from matplotlib import pyplot as plt\n",
    "\n",
    "import pylab\n",
    "pylab.rcParams['figure.figsize'] = (12, 10)\n",
    "\n",
    "%matplotlib inline"
   ]
  },
  {
   "cell_type": "markdown",
   "id": "seasonal-selling",
   "metadata": {},
   "source": [
    "Transalte column names to English"
   ]
  },
  {
   "cell_type": "code",
   "execution_count": 4,
   "id": "super-locator",
   "metadata": {
    "scrolled": true
   },
   "outputs": [
    {
     "data": {
      "text/html": [
       "<div>\n",
       "<style scoped>\n",
       "    .dataframe tbody tr th:only-of-type {\n",
       "        vertical-align: middle;\n",
       "    }\n",
       "\n",
       "    .dataframe tbody tr th {\n",
       "        vertical-align: top;\n",
       "    }\n",
       "\n",
       "    .dataframe thead th {\n",
       "        text-align: right;\n",
       "    }\n",
       "</style>\n",
       "<table border=\"1\" class=\"dataframe\">\n",
       "  <thead>\n",
       "    <tr style=\"text-align: right;\">\n",
       "      <th></th>\n",
       "      <th>Activity type</th>\n",
       "      <th>Date</th>\n",
       "      <th>Distance</th>\n",
       "      <th>Calories</th>\n",
       "      <th>Time</th>\n",
       "      <th>Hearth Rate</th>\n",
       "      <th>Max Hearth Rate</th>\n",
       "      <th>Aerobic TE</th>\n",
       "      <th>Cadence (running)</th>\n",
       "      <th>Max. Cadence (running)</th>\n",
       "      <th>Speed</th>\n",
       "      <th>Maximum speed</th>\n",
       "      <th>Positive difference in altitude</th>\n",
       "      <th>Negative height difference</th>\n",
       "      <th>Stride Length</th>\n",
       "    </tr>\n",
       "  </thead>\n",
       "  <tbody>\n",
       "    <tr>\n",
       "      <th>0</th>\n",
       "      <td>Laufen</td>\n",
       "      <td>2020-08-22 11:13:16</td>\n",
       "      <td>3.82</td>\n",
       "      <td>269</td>\n",
       "      <td>0:20:47</td>\n",
       "      <td>138</td>\n",
       "      <td>150</td>\n",
       "      <td>2.4</td>\n",
       "      <td>160</td>\n",
       "      <td>174</td>\n",
       "      <td>5:26</td>\n",
       "      <td>4:05</td>\n",
       "      <td>55</td>\n",
       "      <td>67</td>\n",
       "      <td>1.15</td>\n",
       "    </tr>\n",
       "    <tr>\n",
       "      <th>1</th>\n",
       "      <td>Radfahren</td>\n",
       "      <td>2020-08-22 8:37:31</td>\n",
       "      <td>56.06</td>\n",
       "      <td>1,178</td>\n",
       "      <td>2:30:09</td>\n",
       "      <td>119</td>\n",
       "      <td>143</td>\n",
       "      <td>2.6</td>\n",
       "      <td>--</td>\n",
       "      <td>--</td>\n",
       "      <td>22.4</td>\n",
       "      <td>47.9</td>\n",
       "      <td>448</td>\n",
       "      <td>461</td>\n",
       "      <td>0.00</td>\n",
       "    </tr>\n",
       "    <tr>\n",
       "      <th>2</th>\n",
       "      <td>Laufen</td>\n",
       "      <td>2020-08-20 7:40:48</td>\n",
       "      <td>11.36</td>\n",
       "      <td>678</td>\n",
       "      <td>1:02:41</td>\n",
       "      <td>135</td>\n",
       "      <td>155</td>\n",
       "      <td>2.8</td>\n",
       "      <td>160</td>\n",
       "      <td>192</td>\n",
       "      <td>5:31</td>\n",
       "      <td>3:32</td>\n",
       "      <td>124</td>\n",
       "      <td>116</td>\n",
       "      <td>1.13</td>\n",
       "    </tr>\n",
       "    <tr>\n",
       "      <th>3</th>\n",
       "      <td>Schwimmbadschwimmen</td>\n",
       "      <td>2020-08-19 8:17:18</td>\n",
       "      <td>1,400</td>\n",
       "      <td>311</td>\n",
       "      <td>0:49:09</td>\n",
       "      <td>144</td>\n",
       "      <td>181</td>\n",
       "      <td>3.7</td>\n",
       "      <td>--</td>\n",
       "      <td>--</td>\n",
       "      <td>2:48</td>\n",
       "      <td>0:49</td>\n",
       "      <td>--</td>\n",
       "      <td>--</td>\n",
       "      <td>0.00</td>\n",
       "    </tr>\n",
       "    <tr>\n",
       "      <th>4</th>\n",
       "      <td>Laufen</td>\n",
       "      <td>2020-08-18 7:49:42</td>\n",
       "      <td>7.97</td>\n",
       "      <td>592</td>\n",
       "      <td>0:43:31</td>\n",
       "      <td>146</td>\n",
       "      <td>162</td>\n",
       "      <td>3.6</td>\n",
       "      <td>162</td>\n",
       "      <td>190</td>\n",
       "      <td>5:28</td>\n",
       "      <td>3:48</td>\n",
       "      <td>119</td>\n",
       "      <td>122</td>\n",
       "      <td>1.13</td>\n",
       "    </tr>\n",
       "  </tbody>\n",
       "</table>\n",
       "</div>"
      ],
      "text/plain": [
       "         Activity type                 Date Distance Calories     Time  \\\n",
       "0               Laufen  2020-08-22 11:13:16     3.82      269  0:20:47   \n",
       "1            Radfahren   2020-08-22 8:37:31    56.06    1,178  2:30:09   \n",
       "2               Laufen   2020-08-20 7:40:48    11.36      678  1:02:41   \n",
       "3  Schwimmbadschwimmen   2020-08-19 8:17:18    1,400      311  0:49:09   \n",
       "4               Laufen   2020-08-18 7:49:42     7.97      592  0:43:31   \n",
       "\n",
       "   Hearth Rate  Max Hearth Rate  Aerobic TE Cadence (running)  \\\n",
       "0          138              150         2.4               160   \n",
       "1          119              143         2.6                --   \n",
       "2          135              155         2.8               160   \n",
       "3          144              181         3.7                --   \n",
       "4          146              162         3.6               162   \n",
       "\n",
       "  Max. Cadence (running) Speed Maximum speed Positive difference in altitude  \\\n",
       "0                    174  5:26          4:05                              55   \n",
       "1                     --  22.4          47.9                             448   \n",
       "2                    192  5:31          3:32                             124   \n",
       "3                     --  2:48          0:49                              --   \n",
       "4                    190  5:28          3:48                             119   \n",
       "\n",
       "  Negative height difference  Stride Length  \n",
       "0                         67           1.15  \n",
       "1                        461           0.00  \n",
       "2                        116           1.13  \n",
       "3                         --           0.00  \n",
       "4                        122           1.13  "
      ]
     },
     "execution_count": 4,
     "metadata": {},
     "output_type": "execute_result"
    }
   ],
   "source": [
    "column_translation = {\n",
    "    \"Aktivitätstyp\": \"Activity type\",\n",
    "    \"Datum\": \"Date\",\n",
    "    \"Distanz\": \"Distance\",\n",
    "    \"Kalorien\": \"Calories\",\n",
    "    \"Zeit\": \"Time\",\n",
    "    \"Ø Herzfrequenz\": \"Hearth Rate\",\n",
    "    \"Maximale Herzfrequenz\": \"Max Hearth Rate\",\n",
    "    \"Aerober TE\": \"Aerobic TE\",\n",
    "    \"Ø Schrittfrequenz (Laufen)\": \"Cadence (running)\",\n",
    "    \"Max. Schrittfrequenz (Laufen)\": \"Max. Cadence (running)\",\n",
    "    \"Ø Geschwindigkeit\": \"Speed\",\n",
    "    \"Maximale Geschwindigkeit\": \"Maximum speed\",\n",
    "    \"Positiver Höhenunterschied\": \"Positive difference in altitude\",\n",
    "    \"Negativer Höhenunterschied\": \"Negative height difference\",\n",
    "    \"Ø Schrittlänge\": \"Stride Length\" \n",
    "}\n",
    "\n",
    "df_activity = df_activity.rename(columns=column_translation)\n",
    "df_activity.head()"
   ]
  },
  {
   "cell_type": "markdown",
   "id": "integrated-alexandria",
   "metadata": {},
   "source": [
    "## Some cleaning and processing\n",
    "\n",
    "Some columns have different formats/scale depending on the activity type, so it could be useful to normalize them. <br>\n",
    "Moreover, it looks like there are a couple of trail runs with null distance and calories, probably they are errors that we can drop."
   ]
  },
  {
   "cell_type": "code",
   "execution_count": 5,
   "id": "heard-marble",
   "metadata": {},
   "outputs": [],
   "source": [
    "def preprocess_data(df):\n",
    "    df_activity = df.copy()\n",
    "    df_activity[\"Calories\"] = pd.to_numeric(df_activity[\"Calories\"].apply(lambda x: str(x).replace(\",\", \".\")), errors='coerce')\n",
    "    df_activity = df_activity.dropna(subset=[\"Calories\"])\n",
    "    \n",
    "    df_activity[\"Distance\"] = pd.to_numeric(df_activity[\"Distance\"].apply(lambda x: str(x).replace(\",\", \"\")), errors='coerce')\n",
    "    df_activity[\"Distance\"][df_activity[\"Activity type\"] == \"Schwimmbadschwimmen\"] = df_activity[\"Distance\"] / 1000\n",
    "\n",
    "    def seconds_from_time(x):\n",
    "        parts = x.split(\":\")\n",
    "        seconds = int(parts[0]) * 3600 + int(parts[1]) * 60 + int(parts[2])\n",
    "        return seconds\n",
    "\n",
    "    df_activity[\"Duration (s)\"] = df_activity[\"Time\"].apply(seconds_from_time)\n",
    "\n",
    "    df_activity[\"Speed (km/h)\"] = df_activity[\"Distance\"] / df_activity[\"Duration (s)\"] * 3600\n",
    "    \n",
    "    df_activity[\"Date\"] = pd.to_datetime(df_activity[\"Date\"])\n",
    "    df_activity[\"date_day\"] = df_activity[\"Date\"].dt.date\n",
    "    \n",
    "    return df_activity\n",
    "    "
   ]
  },
  {
   "cell_type": "code",
   "execution_count": 6,
   "id": "desperate-harris",
   "metadata": {},
   "outputs": [
    {
     "data": {
      "text/html": [
       "<div>\n",
       "<style scoped>\n",
       "    .dataframe tbody tr th:only-of-type {\n",
       "        vertical-align: middle;\n",
       "    }\n",
       "\n",
       "    .dataframe tbody tr th {\n",
       "        vertical-align: top;\n",
       "    }\n",
       "\n",
       "    .dataframe thead th {\n",
       "        text-align: right;\n",
       "    }\n",
       "</style>\n",
       "<table border=\"1\" class=\"dataframe\">\n",
       "  <thead>\n",
       "    <tr style=\"text-align: right;\">\n",
       "      <th></th>\n",
       "      <th>Activity type</th>\n",
       "      <th>Date</th>\n",
       "      <th>Distance</th>\n",
       "      <th>Calories</th>\n",
       "      <th>Time</th>\n",
       "      <th>Hearth Rate</th>\n",
       "      <th>Max Hearth Rate</th>\n",
       "      <th>Aerobic TE</th>\n",
       "      <th>Cadence (running)</th>\n",
       "      <th>Max. Cadence (running)</th>\n",
       "      <th>Speed</th>\n",
       "      <th>Maximum speed</th>\n",
       "      <th>Positive difference in altitude</th>\n",
       "      <th>Negative height difference</th>\n",
       "      <th>Stride Length</th>\n",
       "      <th>Duration (s)</th>\n",
       "      <th>Speed (km/h)</th>\n",
       "      <th>date_day</th>\n",
       "    </tr>\n",
       "  </thead>\n",
       "  <tbody>\n",
       "    <tr>\n",
       "      <th>0</th>\n",
       "      <td>Laufen</td>\n",
       "      <td>2020-08-22 11:13:16</td>\n",
       "      <td>3.82</td>\n",
       "      <td>269.000</td>\n",
       "      <td>0:20:47</td>\n",
       "      <td>138</td>\n",
       "      <td>150</td>\n",
       "      <td>2.4</td>\n",
       "      <td>160</td>\n",
       "      <td>174</td>\n",
       "      <td>5:26</td>\n",
       "      <td>4:05</td>\n",
       "      <td>55</td>\n",
       "      <td>67</td>\n",
       "      <td>1.15</td>\n",
       "      <td>1247</td>\n",
       "      <td>11.028067</td>\n",
       "      <td>2020-08-22</td>\n",
       "    </tr>\n",
       "    <tr>\n",
       "      <th>1</th>\n",
       "      <td>Radfahren</td>\n",
       "      <td>2020-08-22 08:37:31</td>\n",
       "      <td>56.06</td>\n",
       "      <td>1.178</td>\n",
       "      <td>2:30:09</td>\n",
       "      <td>119</td>\n",
       "      <td>143</td>\n",
       "      <td>2.6</td>\n",
       "      <td>--</td>\n",
       "      <td>--</td>\n",
       "      <td>22.4</td>\n",
       "      <td>47.9</td>\n",
       "      <td>448</td>\n",
       "      <td>461</td>\n",
       "      <td>0.00</td>\n",
       "      <td>9009</td>\n",
       "      <td>22.401598</td>\n",
       "      <td>2020-08-22</td>\n",
       "    </tr>\n",
       "    <tr>\n",
       "      <th>2</th>\n",
       "      <td>Laufen</td>\n",
       "      <td>2020-08-20 07:40:48</td>\n",
       "      <td>11.36</td>\n",
       "      <td>678.000</td>\n",
       "      <td>1:02:41</td>\n",
       "      <td>135</td>\n",
       "      <td>155</td>\n",
       "      <td>2.8</td>\n",
       "      <td>160</td>\n",
       "      <td>192</td>\n",
       "      <td>5:31</td>\n",
       "      <td>3:32</td>\n",
       "      <td>124</td>\n",
       "      <td>116</td>\n",
       "      <td>1.13</td>\n",
       "      <td>3761</td>\n",
       "      <td>10.873704</td>\n",
       "      <td>2020-08-20</td>\n",
       "    </tr>\n",
       "    <tr>\n",
       "      <th>3</th>\n",
       "      <td>Schwimmbadschwimmen</td>\n",
       "      <td>2020-08-19 08:17:18</td>\n",
       "      <td>1.40</td>\n",
       "      <td>311.000</td>\n",
       "      <td>0:49:09</td>\n",
       "      <td>144</td>\n",
       "      <td>181</td>\n",
       "      <td>3.7</td>\n",
       "      <td>--</td>\n",
       "      <td>--</td>\n",
       "      <td>2:48</td>\n",
       "      <td>0:49</td>\n",
       "      <td>--</td>\n",
       "      <td>--</td>\n",
       "      <td>0.00</td>\n",
       "      <td>2949</td>\n",
       "      <td>1.709054</td>\n",
       "      <td>2020-08-19</td>\n",
       "    </tr>\n",
       "    <tr>\n",
       "      <th>4</th>\n",
       "      <td>Laufen</td>\n",
       "      <td>2020-08-18 07:49:42</td>\n",
       "      <td>7.97</td>\n",
       "      <td>592.000</td>\n",
       "      <td>0:43:31</td>\n",
       "      <td>146</td>\n",
       "      <td>162</td>\n",
       "      <td>3.6</td>\n",
       "      <td>162</td>\n",
       "      <td>190</td>\n",
       "      <td>5:28</td>\n",
       "      <td>3:48</td>\n",
       "      <td>119</td>\n",
       "      <td>122</td>\n",
       "      <td>1.13</td>\n",
       "      <td>2611</td>\n",
       "      <td>10.988893</td>\n",
       "      <td>2020-08-18</td>\n",
       "    </tr>\n",
       "  </tbody>\n",
       "</table>\n",
       "</div>"
      ],
      "text/plain": [
       "         Activity type                Date  Distance  Calories     Time  \\\n",
       "0               Laufen 2020-08-22 11:13:16      3.82   269.000  0:20:47   \n",
       "1            Radfahren 2020-08-22 08:37:31     56.06     1.178  2:30:09   \n",
       "2               Laufen 2020-08-20 07:40:48     11.36   678.000  1:02:41   \n",
       "3  Schwimmbadschwimmen 2020-08-19 08:17:18      1.40   311.000  0:49:09   \n",
       "4               Laufen 2020-08-18 07:49:42      7.97   592.000  0:43:31   \n",
       "\n",
       "   Hearth Rate  Max Hearth Rate  Aerobic TE Cadence (running)  \\\n",
       "0          138              150         2.4               160   \n",
       "1          119              143         2.6                --   \n",
       "2          135              155         2.8               160   \n",
       "3          144              181         3.7                --   \n",
       "4          146              162         3.6               162   \n",
       "\n",
       "  Max. Cadence (running) Speed Maximum speed Positive difference in altitude  \\\n",
       "0                    174  5:26          4:05                              55   \n",
       "1                     --  22.4          47.9                             448   \n",
       "2                    192  5:31          3:32                             124   \n",
       "3                     --  2:48          0:49                              --   \n",
       "4                    190  5:28          3:48                             119   \n",
       "\n",
       "  Negative height difference  Stride Length  Duration (s)  Speed (km/h)  \\\n",
       "0                         67           1.15          1247     11.028067   \n",
       "1                        461           0.00          9009     22.401598   \n",
       "2                        116           1.13          3761     10.873704   \n",
       "3                         --           0.00          2949      1.709054   \n",
       "4                        122           1.13          2611     10.988893   \n",
       "\n",
       "     date_day  \n",
       "0  2020-08-22  \n",
       "1  2020-08-22  \n",
       "2  2020-08-20  \n",
       "3  2020-08-19  \n",
       "4  2020-08-18  "
      ]
     },
     "execution_count": 6,
     "metadata": {},
     "output_type": "execute_result"
    }
   ],
   "source": [
    "df_activity = preprocess_data(df_activity)\n",
    "df_activity.head()"
   ]
  },
  {
   "cell_type": "markdown",
   "id": "informal-system",
   "metadata": {},
   "source": [
    "## Plot some data\n",
    "\n",
    "Here a quick overview of the distribution of some variables, also based on the activity types."
   ]
  },
  {
   "cell_type": "code",
   "execution_count": 7,
   "id": "hidden-stadium",
   "metadata": {},
   "outputs": [
    {
     "data": {
      "image/png": "[encoded data removed]",
      "text/plain": [
       "<Figure size 864x432 with 1 Axes>"
      ]
     },
     "metadata": {
      "needs_background": "light"
     },
     "output_type": "display_data"
    }
   ],
   "source": [
    "plt.figure(figsize=(12,6))\n",
    "sns.boxplot(\n",
    "    x=\"Activity type\",\n",
    "    y=\"Speed (km/h)\",\n",
    "    data=df_activity\n",
    ")\n",
    "plt.show()"
   ]
  },
  {
   "cell_type": "code",
   "execution_count": 8,
   "id": "facial-supply",
   "metadata": {},
   "outputs": [
    {
     "data": {
      "image/png": "[encoded data removed]",
      "text/plain": [
       "<Figure size 864x432 with 1 Axes>"
      ]
     },
     "metadata": {
      "needs_background": "light"
     },
     "output_type": "display_data"
    }
   ],
   "source": [
    "plt.figure(figsize=(12,6))\n",
    "sns.boxplot(\n",
    "    x=\"Activity type\",\n",
    "    y=\"Aerobic TE\",\n",
    "    data=df_activity\n",
    ")\n",
    "plt.show()"
   ]
  },
  {
   "cell_type": "code",
   "execution_count": 9,
   "id": "declared-traffic",
   "metadata": {},
   "outputs": [
    {
     "data": {
      "image/png": "[encoded data removed]",
      "text/plain": [
       "<Figure size 864x432 with 1 Axes>"
      ]
     },
     "metadata": {
      "needs_background": "light"
     },
     "output_type": "display_data"
    }
   ],
   "source": [
    "plt.figure(figsize=(12,6))\n",
    "sns.boxplot(\n",
    "    y=\"Aerobic TE\",\n",
    "    data=df_activity\n",
    ")\n",
    "plt.show()"
   ]
  },
  {
   "cell_type": "code",
   "execution_count": 10,
   "id": "decreased-entrepreneur",
   "metadata": {},
   "outputs": [
    {
     "data": {
      "text/plain": [
       "count    76.000000\n",
       "mean      2.655263\n",
       "std       0.773631\n",
       "min       0.300000\n",
       "25%       2.275000\n",
       "50%       2.700000\n",
       "75%       3.100000\n",
       "max       4.900000\n",
       "Name: Aerobic TE, dtype: float64"
      ]
     },
     "execution_count": 10,
     "metadata": {},
     "output_type": "execute_result"
    }
   ],
   "source": [
    "df_activity[\"Aerobic TE\"].describe()"
   ]
  },
  {
   "cell_type": "markdown",
   "id": "artistic-dublin",
   "metadata": {},
   "source": [
    "# Label Activities \n",
    "\n",
    "In order to train a model, that is able to tell if one should rest or train, we need to have some labeled data. <br>\n",
    "For the sake of simplicity, we will assign a label of *True* (rest) for the activities where the aerobic training effect was in the lowest quartile.\n",
    "\n",
    "This assumption allows us to distinguish between the cases in which the person was able to perform a good training session and the ones in which he could have rest (some activities such as yoga will be included in the rest). This is simplification and a better dataset should be built with experts. "
   ]
  },
  {
   "cell_type": "code",
   "execution_count": 11,
   "id": "referenced-distinction",
   "metadata": {},
   "outputs": [
    {
     "data": {
      "text/plain": [
       "count    76.00000\n",
       "mean      0.25000\n",
       "std       0.43589\n",
       "min       0.00000\n",
       "25%       0.00000\n",
       "50%       0.00000\n",
       "75%       0.25000\n",
       "max       1.00000\n",
       "Name: label, dtype: float64"
      ]
     },
     "execution_count": 11,
     "metadata": {},
     "output_type": "execute_result"
    }
   ],
   "source": [
    "df_activity[\"label\"] = df_activity[\"Aerobic TE\"].apply(lambda x: float(x < 2.3))\n",
    "df_activity[\"label\"].describe()"
   ]
  },
  {
   "cell_type": "markdown",
   "id": "received-shirt",
   "metadata": {},
   "source": [
    "# Get Bob's data from API\n",
    "\n",
    "We get Bob HR data from the API. For other users we will only have HR data, so this is the only source that we can use to train a model."
   ]
  },
  {
   "cell_type": "code",
   "execution_count": 12,
   "id": "desirable-stand",
   "metadata": {},
   "outputs": [],
   "source": [
    "import requests\n",
    "\n",
    "url = \"https://hrv4roland.herokuapp.com/hrv/?name=Bob\"\n",
    "\n",
    "data = requests.get(url)"
   ]
  },
  {
   "cell_type": "code",
   "execution_count": 13,
   "id": "hydraulic-azerbaijan",
   "metadata": {},
   "outputs": [
    {
     "data": {
      "text/html": [
       "<div>\n",
       "<style scoped>\n",
       "    .dataframe tbody tr th:only-of-type {\n",
       "        vertical-align: middle;\n",
       "    }\n",
       "\n",
       "    .dataframe tbody tr th {\n",
       "        vertical-align: top;\n",
       "    }\n",
       "\n",
       "    .dataframe thead th {\n",
       "        text-align: right;\n",
       "    }\n",
       "</style>\n",
       "<table border=\"1\" class=\"dataframe\">\n",
       "  <thead>\n",
       "    <tr style=\"text-align: right;\">\n",
       "      <th></th>\n",
       "      <th>date</th>\n",
       "      <th>hrpeak</th>\n",
       "      <th>hrrest</th>\n",
       "      <th>hrstanding</th>\n",
       "      <th>hrvrest</th>\n",
       "      <th>hrvstanding</th>\n",
       "      <th>datetime</th>\n",
       "    </tr>\n",
       "  </thead>\n",
       "  <tbody>\n",
       "    <tr>\n",
       "      <th>0</th>\n",
       "      <td>22.08.2020 07:27</td>\n",
       "      <td>93</td>\n",
       "      <td>53</td>\n",
       "      <td>78</td>\n",
       "      <td>48</td>\n",
       "      <td>10</td>\n",
       "      <td>2020-08-22 07:27:00</td>\n",
       "    </tr>\n",
       "    <tr>\n",
       "      <th>1</th>\n",
       "      <td>21.08.2020 06:18</td>\n",
       "      <td>91</td>\n",
       "      <td>51</td>\n",
       "      <td>79</td>\n",
       "      <td>57</td>\n",
       "      <td>12</td>\n",
       "      <td>2020-08-21 06:18:00</td>\n",
       "    </tr>\n",
       "    <tr>\n",
       "      <th>2</th>\n",
       "      <td>20.08.2020 05:44</td>\n",
       "      <td>94</td>\n",
       "      <td>56</td>\n",
       "      <td>79</td>\n",
       "      <td>46</td>\n",
       "      <td>9</td>\n",
       "      <td>2020-08-20 05:44:00</td>\n",
       "    </tr>\n",
       "    <tr>\n",
       "      <th>3</th>\n",
       "      <td>19.08.2020 06:29</td>\n",
       "      <td>86</td>\n",
       "      <td>52</td>\n",
       "      <td>76</td>\n",
       "      <td>57</td>\n",
       "      <td>9</td>\n",
       "      <td>2020-08-19 06:29:00</td>\n",
       "    </tr>\n",
       "    <tr>\n",
       "      <th>4</th>\n",
       "      <td>18.08.2020 06:55</td>\n",
       "      <td>86</td>\n",
       "      <td>55</td>\n",
       "      <td>79</td>\n",
       "      <td>40</td>\n",
       "      <td>8</td>\n",
       "      <td>2020-08-18 06:55:00</td>\n",
       "    </tr>\n",
       "  </tbody>\n",
       "</table>\n",
       "</div>"
      ],
      "text/plain": [
       "               date  hrpeak  hrrest  hrstanding  hrvrest  hrvstanding  \\\n",
       "0  22.08.2020 07:27      93      53          78       48           10   \n",
       "1  21.08.2020 06:18      91      51          79       57           12   \n",
       "2  20.08.2020 05:44      94      56          79       46            9   \n",
       "3  19.08.2020 06:29      86      52          76       57            9   \n",
       "4  18.08.2020 06:55      86      55          79       40            8   \n",
       "\n",
       "             datetime  \n",
       "0 2020-08-22 07:27:00  \n",
       "1 2020-08-21 06:18:00  \n",
       "2 2020-08-20 05:44:00  \n",
       "3 2020-08-19 06:29:00  \n",
       "4 2020-08-18 06:55:00  "
      ]
     },
     "execution_count": 13,
     "metadata": {},
     "output_type": "execute_result"
    }
   ],
   "source": [
    "df_hr = pd.DataFrame(data.json()['data'])\n",
    "\n",
    "df_hr[\"datetime\"] = pd.to_datetime(df_hr[\"date\"])\n",
    "df_hr[[\"hrpeak\", \"hrrest\", \"hrstanding\", \"hrvrest\", \"hrvstanding\"]] = df_hr[[\"hrpeak\", \"hrrest\", \"hrstanding\", \"hrvrest\", \"hrvstanding\"]].astype(int)\n",
    "\n",
    "df_hr.head()"
   ]
  },
  {
   "cell_type": "markdown",
   "id": "scheduled-reply",
   "metadata": {},
   "source": [
    "# Features\n",
    "\n",
    "The only features we can use should come from the HR data API. <br>\n",
    "I decided to keep the last measurement available before the actual activity and to add the number of hours between the measurement and the correpsonding activity. Here the code that builds the dataset."
   ]
  },
  {
   "cell_type": "code",
   "execution_count": 14,
   "id": "unknown-swimming",
   "metadata": {},
   "outputs": [
    {
     "data": {
      "text/html": [
       "<div>\n",
       "<style scoped>\n",
       "    .dataframe tbody tr th:only-of-type {\n",
       "        vertical-align: middle;\n",
       "    }\n",
       "\n",
       "    .dataframe tbody tr th {\n",
       "        vertical-align: top;\n",
       "    }\n",
       "\n",
       "    .dataframe thead th {\n",
       "        text-align: right;\n",
       "    }\n",
       "</style>\n",
       "<table border=\"1\" class=\"dataframe\">\n",
       "  <thead>\n",
       "    <tr style=\"text-align: right;\">\n",
       "      <th></th>\n",
       "      <th>hrpeak</th>\n",
       "      <th>hrrest</th>\n",
       "      <th>hrstanding</th>\n",
       "      <th>hrvrest</th>\n",
       "      <th>hrvstanding</th>\n",
       "      <th>hours_from_hr_to_activity</th>\n",
       "      <th>label</th>\n",
       "    </tr>\n",
       "  </thead>\n",
       "  <tbody>\n",
       "    <tr>\n",
       "      <th>0</th>\n",
       "      <td>93</td>\n",
       "      <td>53</td>\n",
       "      <td>78</td>\n",
       "      <td>48</td>\n",
       "      <td>10</td>\n",
       "      <td>3.771111</td>\n",
       "      <td>0.0</td>\n",
       "    </tr>\n",
       "    <tr>\n",
       "      <th>1</th>\n",
       "      <td>93</td>\n",
       "      <td>53</td>\n",
       "      <td>78</td>\n",
       "      <td>48</td>\n",
       "      <td>10</td>\n",
       "      <td>1.175278</td>\n",
       "      <td>0.0</td>\n",
       "    </tr>\n",
       "    <tr>\n",
       "      <th>2</th>\n",
       "      <td>94</td>\n",
       "      <td>56</td>\n",
       "      <td>79</td>\n",
       "      <td>46</td>\n",
       "      <td>9</td>\n",
       "      <td>1.946667</td>\n",
       "      <td>0.0</td>\n",
       "    </tr>\n",
       "    <tr>\n",
       "      <th>3</th>\n",
       "      <td>86</td>\n",
       "      <td>52</td>\n",
       "      <td>76</td>\n",
       "      <td>57</td>\n",
       "      <td>9</td>\n",
       "      <td>1.805000</td>\n",
       "      <td>0.0</td>\n",
       "    </tr>\n",
       "    <tr>\n",
       "      <th>4</th>\n",
       "      <td>86</td>\n",
       "      <td>55</td>\n",
       "      <td>79</td>\n",
       "      <td>40</td>\n",
       "      <td>8</td>\n",
       "      <td>0.911667</td>\n",
       "      <td>0.0</td>\n",
       "    </tr>\n",
       "  </tbody>\n",
       "</table>\n",
       "</div>"
      ],
      "text/plain": [
       "   hrpeak  hrrest  hrstanding  hrvrest  hrvstanding  \\\n",
       "0      93      53          78       48           10   \n",
       "1      93      53          78       48           10   \n",
       "2      94      56          79       46            9   \n",
       "3      86      52          76       57            9   \n",
       "4      86      55          79       40            8   \n",
       "\n",
       "   hours_from_hr_to_activity  label  \n",
       "0                   3.771111    0.0  \n",
       "1                   1.175278    0.0  \n",
       "2                   1.946667    0.0  \n",
       "3                   1.805000    0.0  \n",
       "4                   0.911667    0.0  "
      ]
     },
     "execution_count": 14,
     "metadata": {},
     "output_type": "execute_result"
    }
   ],
   "source": [
    "df_dataset = pd.DataFrame()\n",
    "\n",
    "for _, row in df_activity.iterrows():\n",
    "    df_candidate = df_hr[df_hr[\"datetime\"] < row[\"Date\"]].sort_values(by=\"datetime\", ascending=False)\n",
    "    features = df_candidate.head(1)    \n",
    "    features[\"label\"] = row[\"label\"]\n",
    "    features[\"activity\"] = row[\"Activity type\"]\n",
    "    features[\"activity_date\"] = row[\"Date\"]\n",
    "    df_dataset = df_dataset.append(features)\n",
    "    \n",
    "df_dataset = df_dataset.reset_index(drop=True)\n",
    "\n",
    "df_dataset[\"hours_from_hr_to_activity\"] = (df_dataset[\"activity_date\"] - df_dataset[\"datetime\"]).dt.total_seconds() / 3600\n",
    "\n",
    "df_dataset = df_dataset[[\"hrpeak\", \"hrrest\", \"hrstanding\", \"hrvrest\", \"hrvstanding\", \"hours_from_hr_to_activity\", \"label\"]]\n",
    "\n",
    "df_dataset.head()"
   ]
  },
  {
   "cell_type": "markdown",
   "id": "conditional-subscription",
   "metadata": {},
   "source": [
    "# Train a simple model"
   ]
  },
  {
   "cell_type": "markdown",
   "id": "disabled-dependence",
   "metadata": {},
   "source": [
    "Here we train the actual model. <br>\n",
    "Ideally, we should split the data into train and validation set, but for the sake of simplicity and since we are not really interested in fine tuning the performance, we just use all the data and do a cross validated grid search to select the hyper-parameters.  "
   ]
  },
  {
   "cell_type": "code",
   "execution_count": 15,
   "id": "broke-practice",
   "metadata": {},
   "outputs": [],
   "source": [
    "import numpy as np\n",
    "from sklearn.metrics import f1_score, precision_score, recall_score, accuracy_score\n",
    "from sklearn.model_selection import GridSearchCV\n",
    "from sklearn.tree import DecisionTreeClassifier\n",
    "from sklearn.metrics import plot_confusion_matrix"
   ]
  },
  {
   "cell_type": "markdown",
   "id": "viral-overview",
   "metadata": {},
   "source": [
    "Get features and labels"
   ]
  },
  {
   "cell_type": "code",
   "execution_count": 16,
   "id": "prescription-bahrain",
   "metadata": {},
   "outputs": [
    {
     "name": "stdout",
     "output_type": "stream",
     "text": [
      "Base accuracy: 0.75\n"
     ]
    }
   ],
   "source": [
    "feat_cols = [\"hrpeak\", \"hrrest\", \"hrstanding\", \"hrvrest\", \"hrvstanding\", \"hours_from_hr_to_activity\"]\n",
    "label_col = \"label\"\n",
    "\n",
    "X = df_dataset[feat_cols].values\n",
    "y = df_dataset[label_col].values\n",
    "\n",
    "print(f\"Base accuracy: {1 - sum(y)/len(y)}\")"
   ]
  },
  {
   "cell_type": "markdown",
   "id": "defensive-throw",
   "metadata": {},
   "source": [
    "Train a simple Decision Tree using Grid Search for the best parameters"
   ]
  },
  {
   "cell_type": "code",
   "execution_count": 17,
   "id": "cheap-cherry",
   "metadata": {},
   "outputs": [
    {
     "data": {
      "text/plain": [
       "{'max_depth': 6, 'max_features': 'sqrt', 'min_samples_leaf': 3}"
      ]
     },
     "execution_count": 17,
     "metadata": {},
     "output_type": "execute_result"
    }
   ],
   "source": [
    "parameters = {\n",
    "    \"max_depth\": [2, 3, 4, 5, 6], \n",
    "    \"max_features\": [\"sqrt\", \"log2\"],\n",
    "    \"min_samples_leaf\": [3, 5, 10],\n",
    "}\n",
    "\n",
    "\n",
    "tree_model = DecisionTreeClassifier(random_state=42)\n",
    "\n",
    "clf = GridSearchCV(tree_model, parameters, cv=5, refit=True, scoring='f1')\n",
    "\n",
    "clf.fit(X, y)\n",
    "\n",
    "y_pred = clf.predict(X)\n",
    "\n",
    "model = clf.best_estimator_\n",
    "\n",
    "clf.best_params_"
   ]
  },
  {
   "cell_type": "markdown",
   "id": "educational-museum",
   "metadata": {},
   "source": [
    "### Performance Metrics\n",
    "\n",
    "Print some performance metrics. Ideally, this should be computed on the _validation set_."
   ]
  },
  {
   "cell_type": "code",
   "execution_count": 18,
   "id": "still-indianapolis",
   "metadata": {},
   "outputs": [
    {
     "name": "stdout",
     "output_type": "stream",
     "text": [
      "Accuracy:  0.881578947368421\n",
      "Precision: 0.8125\n",
      "Recall:    0.6842105263157895\n",
      "F1-score:  0.742857142857143\n"
     ]
    }
   ],
   "source": [
    "print(f\"Accuracy:  {accuracy_score(y, y_pred)}\")\n",
    "print(f\"Precision: {precision_score(y, y_pred)}\")\n",
    "print(f\"Recall:    {recall_score(y, y_pred)}\")\n",
    "print(f\"F1-score:  {f1_score(y, y_pred)}\")"
   ]
  },
  {
   "cell_type": "code",
   "execution_count": 19,
   "id": "sustained-pottery",
   "metadata": {},
   "outputs": [
    {
     "data": {
      "image/png": "[encoded data removed]",
      "text/plain": [
       "<Figure size 432x288 with 2 Axes>"
      ]
     },
     "metadata": {
      "needs_background": "light"
     },
     "output_type": "display_data"
    }
   ],
   "source": [
    "plot_confusion_matrix(model, X, y, cmap=plt.cm.Blues)\n",
    "plt.show() "
   ]
  },
  {
   "cell_type": "markdown",
   "id": "korean-sally",
   "metadata": {},
   "source": [
    "### Tree visualization"
   ]
  },
  {
   "cell_type": "code",
   "execution_count": 20,
   "id": "uniform-scientist",
   "metadata": {},
   "outputs": [
    {
     "data": {
      "image/png": "[encoded data removed]",
      "text/plain": [
       "<Figure size 1152x720 with 1 Axes>"
      ]
     },
     "metadata": {
      "needs_background": "light"
     },
     "output_type": "display_data"
    }
   ],
   "source": [
    "from sklearn import tree\n",
    "plt.figure(figsize=(16,10))\n",
    "tree.plot_tree(model, rounded=True, filled=True)\n",
    "plt.show()"
   ]
  },
  {
   "cell_type": "markdown",
   "id": "dense-consolidation",
   "metadata": {},
   "source": [
    "### Save the model\n",
    "Save the model as joblib file that can loaded and served by an app."
   ]
  },
  {
   "cell_type": "code",
   "execution_count": 21,
   "id": "express-diamond",
   "metadata": {},
   "outputs": [],
   "source": [
    "from joblib import dump\n",
    "\n",
    "filename = 'hr_model.joblib'\n",
    "dump(model, open(filename, 'wb'))"
   ]
  },
  {
   "cell_type": "code",
   "execution_count": null,
   "id": "prompt-phrase",
   "metadata": {},
   "outputs": [],
   "source": []
  }
 ],
 "metadata": {
  "kernelspec": {
   "display_name": "Python 3.8.3 64-bit ('py38': conda)",
   "language": "python",
   "name": "python38364bitpy38conda08616130e2eb4c8aa9cf1012fc697561"
  },
  "language_info": {
   "codemirror_mode": {
    "name": "ipython",
    "version": 3
   },
   "file_extension": ".py",
   "mimetype": "text/x-python",
   "name": "python",
   "nbconvert_exporter": "python",
   "pygments_lexer": "ipython3",
   "version": "3.8.3"
  }
 },
 "nbformat": 4,
 "nbformat_minor": 5
}
